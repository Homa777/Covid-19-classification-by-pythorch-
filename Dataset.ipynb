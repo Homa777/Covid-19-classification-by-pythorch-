{
 "cells": [
  {
   "cell_type": "markdown",
   "id": "61bd3148",
   "metadata": {},
   "source": [
    "## Build the dataset and applying augumentation "
   ]
  },
  {
   "cell_type": "code",
   "execution_count": null,
   "id": "132849b6",
   "metadata": {},
   "outputs": [],
   "source": [
    "from __future__ import print_function, division\n",
    "import torch\n",
    "import torch.nn as nn\n",
    "import torch.optim as optim\n",
    "from torch.optim import lr_scheduler\n",
    "import numpy as np\n",
    "import torchvision\n",
    "from torchvision import datasets, models, transforms\n",
    "import matplotlib.pyplot as plt\n",
    "import copy, pickle, os, time\n",
    "num_workers =0 \n",
    "learning_rate=0.0001\n",
    "import zipfile as zf\n",
    "files = zf.ZipFile(\"data.zip\", 'r')\n",
    "files.extractall('directory to extract')\n",
    "files.close()\n",
    "dataset_path='./directory to extract/data'\n",
    "data_dir = dataset_path\n",
    "\n",
    "# A technique to increase the diversity of your training set by applying random transformations.\n",
    "\n",
    "start_time= time.time()\n",
    "data_transforms = {\n",
    "    'train': transforms.Compose([\n",
    "        transforms.Resize(224),\n",
    "        transforms.RandomResizedCrop(224), # crop the image randomely\n",
    "        #transforms.RandomHorizontalFlip(),\n",
    "        transforms.ToTensor(),\n",
    "        transforms.Normalize([0.485, 0.456, 0.406], [0.229, 0.224, 0.225])\n",
    "    ]),\n",
    "    'val': transforms.Compose([\n",
    "        transforms.Resize(224),\n",
    "        transforms.CenterCrop(224), # crop the (224*224) image from centre\n",
    "        transforms.ToTensor(),\n",
    "        transforms.Normalize([0.485, 0.456, 0.406], [0.229, 0.224, 0.225])\n",
    "    ])\n",
    "}\n",
    "image_datasets = {x: datasets.ImageFolder(os.path.join(data_dir, x),\n",
    "                                          data_transforms[x])\n",
    "                  for x in ['train', 'val']} ## Build the dataset by datasets.ImageFolder in pytorch and apply augmentation"
   ]
  }
 ],
 "metadata": {
  "kernelspec": {
   "display_name": "Python 3",
   "language": "python",
   "name": "python3"
  },
  "language_info": {
   "codemirror_mode": {
    "name": "ipython",
    "version": 3
   },
   "file_extension": ".py",
   "mimetype": "text/x-python",
   "name": "python",
   "nbconvert_exporter": "python",
   "pygments_lexer": "ipython3",
   "version": "3.8.8"
  }
 },
 "nbformat": 4,
 "nbformat_minor": 5
}
